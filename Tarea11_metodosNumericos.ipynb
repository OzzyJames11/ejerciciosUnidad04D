{
  "cells": [
    {
      "cell_type": "code",
      "execution_count": 3,
      "id": "a2ec4df1-8f10-425e-a65f-3c1cdca250ef",
      "metadata": {
        "tags": [],
        "id": "a2ec4df1-8f10-425e-a65f-3c1cdca250ef",
        "colab": {
          "base_uri": "https://localhost:8080/"
        },
        "outputId": "8da07330-6fa5-4141-c8b5-eaddc15723a0"
      },
      "outputs": [
        {
          "output_type": "stream",
          "name": "stdout",
          "text": [
            "The autoreload extension is already loaded. To reload it, use:\n",
            "  %reload_ext autoreload\n"
          ]
        }
      ],
      "source": [
        "%load_ext autoreload\n",
        "import numpy as np\n",
        "from src import gauss_jacobi,gauss_jacobi_iteraciones\n",
        "from src import gauss_seidel, gauss_seidel_iteraciones,es_diagonal_estrictamente_dominante"
      ]
    },
    {
      "cell_type": "markdown",
      "id": "3438a8b4-a85e-477f-94db-8fc70fb7f231",
      "metadata": {
        "id": "3438a8b4-a85e-477f-94db-8fc70fb7f231"
      },
      "source": [
        "## Ejercicio 01"
      ]
    },
    {
      "cell_type": "code",
      "execution_count": 6,
      "id": "6fb76568-f437-4374-aa91-038d35c953a7",
      "metadata": {
        "tags": [],
        "colab": {
          "base_uri": "https://localhost:8080/"
        },
        "id": "6fb76568-f437-4374-aa91-038d35c953a7",
        "outputId": "4473e2df-f1f0-4e76-ecee-333d38904a7e"
      },
      "outputs": [
        {
          "output_type": "stream",
          "name": "stdout",
          "text": [
            "Iteración 1 , solución aproximada: [0.33333333 0.         0.57142857]\n",
            "Iteración 2 , solución aproximada: [0.33333333 0.         0.57142857]\n"
          ]
        }
      ],
      "source": [
        "%autoreload 2\n",
        "A = [[3,-1,1],[3,6,2],[3,3,7]]\n",
        "b = np.array([1,0,4],dtype=float)\n",
        "x0=np.zeros(len(b))\n",
        "max_iter = 2\n",
        "tol = 10e-6\n",
        "\n",
        "x = gauss_jacobi_iteraciones(A, b, x0, tol, max_iter)\n"
      ]
    },
    {
      "cell_type": "markdown",
      "id": "a0e9da56-4334-4b74-989f-8380fc3a901c",
      "metadata": {
        "id": "a0e9da56-4334-4b74-989f-8380fc3a901c"
      },
      "source": [
        "b)"
      ]
    },
    {
      "cell_type": "code",
      "execution_count": 7,
      "id": "99f1f649-8378-4cb3-b775-4c935ccc8686",
      "metadata": {
        "tags": [],
        "colab": {
          "base_uri": "https://localhost:8080/"
        },
        "id": "99f1f649-8378-4cb3-b775-4c935ccc8686",
        "outputId": "3a2b60ed-1c01-4882-f0c7-9472bc462946"
      },
      "outputs": [
        {
          "output_type": "stream",
          "name": "stdout",
          "text": [
            "Iteración 1 , solución aproximada: [0.9 0.7 0.6]\n",
            "Iteración 2 , solución aproximada: [0.9 0.7 0.6]\n"
          ]
        }
      ],
      "source": [
        "%autoreload 2\n",
        "A = [[10,-1,0],[-1,10,-2],[0,-2,10]]\n",
        "b = np.array([9,7,6],dtype=float)\n",
        "x0=np.zeros(len(b))\n",
        "max_iter = 2\n",
        "tol = 10e-6\n",
        "\n",
        "x = gauss_jacobi_iteraciones(A, b, x0, tol, max_iter)"
      ]
    },
    {
      "cell_type": "markdown",
      "id": "f29d6ccf-5aa7-422e-8179-95cd1cf90afc",
      "metadata": {
        "id": "f29d6ccf-5aa7-422e-8179-95cd1cf90afc"
      },
      "source": [
        "c)"
      ]
    },
    {
      "cell_type": "code",
      "execution_count": 8,
      "id": "ac27385e-9834-4afa-9922-97cab01310a8",
      "metadata": {
        "tags": [],
        "id": "ac27385e-9834-4afa-9922-97cab01310a8",
        "outputId": "d21c4244-f793-4072-940d-bf6912a846c3",
        "colab": {
          "base_uri": "https://localhost:8080/"
        }
      },
      "outputs": [
        {
          "output_type": "stream",
          "name": "stdout",
          "text": [
            "Iteración 1 , solución aproximada: [ 1.6    2.5   -1.375 -2.2  ]\n",
            "Iteración 2 , solución aproximada: [ 1.6    2.5   -1.375 -2.2  ]\n"
          ]
        }
      ],
      "source": [
        "%autoreload 2\n",
        "A = [[10,-5,0,0],[5,10,-4,0],[0,-4,8,-1],[0,0,-1,5]]\n",
        "b = np.array([16,25,-11,-11],dtype=float)\n",
        "x0=np.zeros(len(b))\n",
        "max_iter = 2\n",
        "tol = 10e-6\n",
        "\n",
        "x = gauss_jacobi_iteraciones(A, b, x0, tol, max_iter)"
      ]
    },
    {
      "cell_type": "markdown",
      "id": "409087f0-518f-4c5b-89bd-8485606e583c",
      "metadata": {
        "id": "409087f0-518f-4c5b-89bd-8485606e583c"
      },
      "source": [
        "d)"
      ]
    },
    {
      "cell_type": "code",
      "execution_count": 9,
      "id": "39ab19d6-5563-4273-857d-7b658af3198f",
      "metadata": {
        "tags": [],
        "id": "39ab19d6-5563-4273-857d-7b658af3198f",
        "outputId": "2e19b8bf-c6c3-4176-82e6-0f9b56022d1d",
        "colab": {
          "base_uri": "https://localhost:8080/"
        }
      },
      "outputs": [
        {
          "output_type": "stream",
          "name": "stdout",
          "text": [
            "Iteración 1 , solución aproximada: [ 1.5 -2.   1.2  1.5  1.5]\n",
            "Iteración 2 , solución aproximada: [ 1.5 -2.   1.2  1.5  1.5]\n"
          ]
        }
      ],
      "source": [
        "%autoreload 2\n",
        "A = [[4,1,1,0,1],[-1,-3,1,1,0],[2,1,5,-1,-1],[-1,-1,-1,4,0],[0,2,-1,1,4]]\n",
        "b = np.array([6,6,6,6,6],dtype=float)\n",
        "x0=np.zeros(len(b))\n",
        "max_iter = 2\n",
        "tol = 10e-6\n",
        "\n",
        "x = gauss_jacobi_iteraciones(A, b, x0, tol, max_iter)"
      ]
    },
    {
      "cell_type": "markdown",
      "id": "ae2e8959-1259-483f-bcb5-75c013a66274",
      "metadata": {
        "id": "ae2e8959-1259-483f-bcb5-75c013a66274"
      },
      "source": [
        "## Ejercicio 02"
      ]
    },
    {
      "cell_type": "code",
      "execution_count": 10,
      "id": "a22d3932-bd34-44d7-b232-a88fea2dd87e",
      "metadata": {
        "tags": [],
        "id": "a22d3932-bd34-44d7-b232-a88fea2dd87e",
        "outputId": "cb381fe0-0b1c-4193-eaf0-cc75bd149f22",
        "colab": {
          "base_uri": "https://localhost:8080/"
        }
      },
      "outputs": [
        {
          "output_type": "stream",
          "name": "stdout",
          "text": [
            "\n",
            "Literal a:\n",
            "\n",
            "Iteración 1 , solución aproximada: [ 0.33333333 -0.16666667  0.5       ]\n",
            "Iteración 2 , solución aproximada: [ 0.33333333 -0.16666667  0.5       ]\n",
            "\n",
            "Literal b:\n",
            "\n",
            "Iteración 1 , solución aproximada: [0.9   0.79  0.758]\n",
            "Iteración 2 , solución aproximada: [0.9   0.79  0.758]\n",
            "\n",
            "Literal c:\n",
            "\n",
            "Iteración 1 , solución aproximada: [ 1.6    1.7   -0.525 -2.305]\n",
            "Iteración 2 , solución aproximada: [ 1.6    1.7   -0.525 -2.305]\n",
            "\n",
            "Literal d:\n",
            "\n",
            "Iteración 1 , solución aproximada: [ 1.5     -2.5      1.1      1.525    2.64375]\n",
            "Iteración 2 , solución aproximada: [ 1.5     -2.5      1.1      1.525    2.64375]\n"
          ]
        }
      ],
      "source": [
        "%autoreload 2\n",
        "print(\"\\nLiteral a:\\n\")\n",
        "A = [[3,-1,1],[3,6,2],[3,3,7]]\n",
        "b = np.array([1,0,4],dtype=float)\n",
        "x0=np.zeros(len(b))\n",
        "max_iter = 2\n",
        "tol = 10e-6\n",
        "\n",
        "A = np.array(A, dtype=float)\n",
        "\n",
        "gauss_seidel_iteraciones(A,b,x0,tol,max_iter)\n",
        "\n",
        "print(\"\\nLiteral b:\\n\")\n",
        "A = [[10,-1,0],[-1,10,-2],[0,-2,10]]\n",
        "b = np.array([9,7,6],dtype=float)\n",
        "x0=np.zeros(len(b))\n",
        "max_iter = 2\n",
        "tol = 10e-6\n",
        "\n",
        "A = np.array(A, dtype=float)\n",
        "\n",
        "gauss_seidel_iteraciones(A,b,x0,tol,max_iter)\n",
        "\n",
        "print(\"\\nLiteral c:\\n\")\n",
        "A = [[10,-5,0,0],[5,10,-4,0],[0,-4,8,-1],[0,0,-1,5]]\n",
        "b = np.array([16,25,-11,-11],dtype=float)\n",
        "x0=np.zeros(len(b))\n",
        "max_iter = 2\n",
        "tol = 10e-6\n",
        "\n",
        "A = np.array(A, dtype=float)\n",
        "\n",
        "gauss_seidel_iteraciones(A,b,x0,tol,max_iter)\n",
        "\n",
        "print(\"\\nLiteral d:\\n\")\n",
        "A = [[4,1,1,0,1],[-1,-3,1,1,0],[2,1,5,-1,-1],[-1,-1,-1,4,0],[0,2,-1,1,4]]\n",
        "b = np.array([6,6,6,6,6],dtype=float)\n",
        "x0=np.zeros(len(b))\n",
        "max_iter = 2\n",
        "tol = 10e-6\n",
        "\n",
        "A = np.array(A, dtype=float)\n",
        "\n",
        "gauss_seidel_iteraciones(A,b,x0,tol,max_iter)"
      ]
    },
    {
      "cell_type": "markdown",
      "id": "e4189503-7946-428a-bca0-a73d5d981263",
      "metadata": {
        "id": "e4189503-7946-428a-bca0-a73d5d981263"
      },
      "source": [
        "### Ejercicio 03"
      ]
    },
    {
      "cell_type": "code",
      "execution_count": 11,
      "id": "c8aaf8d2-600b-46e0-8390-b325324dbff2",
      "metadata": {
        "tags": [],
        "id": "c8aaf8d2-600b-46e0-8390-b325324dbff2",
        "outputId": "018c9c5b-fc15-412c-b380-a53213e211bf",
        "colab": {
          "base_uri": "https://localhost:8080/"
        }
      },
      "outputs": [
        {
          "output_type": "stream",
          "name": "stdout",
          "text": [
            "Literal a:\n",
            "\n",
            "Se llego a la solución aproximada en el rango deseado con \n",
            "x = [ 0.03490444 -0.23975543  0.6547619 ]\n",
            "\n",
            "Literal b:\n",
            "\n",
            "Se llego a la solución aproximada en el rango deseado con \n",
            "x = [0.99555 0.95725 0.7911 ]\n",
            "\n",
            "Literal c:\n",
            "\n",
            "Se llego a la solución aproximada en el rango deseado con \n",
            "x = [ 2.09023438  0.9784625  -1.18959961 -2.4369875 ]\n",
            "\n",
            "Literal d:\n",
            "\n",
            "Se llego a la solución aproximada en el rango deseado con \n",
            "x = [ 0.7850751  -0.99873844  1.8646296   1.91522095  1.98538479]\n"
          ]
        }
      ],
      "source": [
        "%autoreload 2\n",
        "print(\"Literal a:\\n\")\n",
        "A = [[3,-1,1],[3,6,2],[3,3,7]]\n",
        "b = np.array([1,0,4],dtype=float)\n",
        "x0=np.zeros(len(b))\n",
        "max_iter = 100\n",
        "tol = 10e-3\n",
        "\n",
        "try:\n",
        "    x = gauss_jacobi(A, b, x0, tol, max_iter)\n",
        "    print(\"Se llego a la solución aproximada en el rango deseado con \\nx =\",x)\n",
        "except ValueError as e:\n",
        "    print(e)\n",
        "\n",
        "print(\"\\nLiteral b:\\n\")\n",
        "A = [[10,-1,0],[-1,10,-2],[0,-2,10]]\n",
        "b = np.array([9,7,6],dtype=float)\n",
        "x0=np.zeros(len(b))\n",
        "max_iter = 100\n",
        "tol = 10e-3\n",
        "\n",
        "try:\n",
        "    x = gauss_jacobi(A, b, x0, tol, max_iter)\n",
        "    print(\"Se llego a la solución aproximada en el rango deseado con \\nx =\",x)\n",
        "except ValueError as e:\n",
        "    print(e)\n",
        "\n",
        "print(\"\\nLiteral c:\\n\")\n",
        "A = [[10,-5,0,0],[5,10,-4,0],[0,-4,8,-1],[0,0,-1,5]]\n",
        "b = np.array([16,25,-11,-11],dtype=float)\n",
        "x0=np.zeros(len(b))\n",
        "max_iter = 100\n",
        "tol = 10e-3\n",
        "\n",
        "try:\n",
        "    x = gauss_jacobi(A, b, x0, tol, max_iter)\n",
        "    print(\"Se llego a la solución aproximada en el rango deseado con \\nx =\",x)\n",
        "except ValueError as e:\n",
        "    print(e)\n",
        "\n",
        "print(\"\\nLiteral d:\\n\")\n",
        "A = [[4,1,1,0,1],[-1,-3,1,1,0],[2,1,5,-1,-1],[-1,-1,-1,4,0],[0,2,-1,1,4]]\n",
        "b = np.array([6,6,6,6,6],dtype=float)\n",
        "x0=np.zeros(len(b))\n",
        "max_iter = 100\n",
        "tol = 10e-3\n",
        "\n",
        "try:\n",
        "    x = gauss_jacobi(A, b, x0, tol, max_iter)\n",
        "    print(\"Se llego a la solución aproximada en el rango deseado con \\nx =\",x)\n",
        "except ValueError as e:\n",
        "    print(e)"
      ]
    },
    {
      "cell_type": "markdown",
      "id": "56162648-0eaf-472a-acb7-b2bdb09fddc9",
      "metadata": {
        "id": "56162648-0eaf-472a-acb7-b2bdb09fddc9"
      },
      "source": [
        "## Ejercicio 04"
      ]
    },
    {
      "cell_type": "code",
      "execution_count": 12,
      "id": "38da0b99-17b7-469b-9ae7-75734fbe096b",
      "metadata": {
        "tags": [],
        "id": "38da0b99-17b7-469b-9ae7-75734fbe096b",
        "outputId": "d289ea83-2cf5-4c35-bc01-7ed1f0f02eff",
        "colab": {
          "base_uri": "https://localhost:8080/"
        }
      },
      "outputs": [
        {
          "output_type": "stream",
          "name": "stdout",
          "text": [
            "Literal a:\n",
            "\n",
            "Se llego a la solución aproximada en el rango deseado con \n",
            "x = [ 0.0361492  -0.23660752  0.65733928]\n",
            "\n",
            "Literal b:\n",
            "\n",
            "Se llego a la solución aproximada en el rango deseado con \n",
            "x = [0.9957475  0.95787375 0.79157475]\n",
            "\n",
            "Literal c:\n",
            "\n",
            "Se llego a la solución aproximada en el rango deseado con \n",
            "x = [ 2.08980938  0.97914391 -1.19017501 -2.438035  ]\n",
            "\n",
            "Literal d:\n",
            "\n",
            "Se llego a la solución aproximada en el rango deseado con \n",
            "x = [ 0.78616258 -1.00240703  1.86606999  1.91245638  1.98960692]\n"
          ]
        }
      ],
      "source": [
        "%autoreload 2\n",
        "print(\"Literal a:\\n\")\n",
        "A = [[3,-1,1],[3,6,2],[3,3,7]]\n",
        "b = np.array([1,0,4],dtype=float)\n",
        "x0=np.zeros(len(b))\n",
        "max_iter = 100\n",
        "tol = 10e-3\n",
        "\n",
        "A = np.array(A, dtype=float)\n",
        "\n",
        "try:\n",
        "    x = gauss_seidel(A, b, x0, tol, max_iter)\n",
        "    print(\"Se llego a la solución aproximada en el rango deseado con \\nx =\",x)\n",
        "except ValueError as e:\n",
        "    print(e)\n",
        "\n",
        "print(\"\\nLiteral b:\\n\")\n",
        "A = [[10,-1,0],[-1,10,-2],[0,-2,10]]\n",
        "b = np.array([9,7,6],dtype=float)\n",
        "x0=np.zeros(len(b))\n",
        "max_iter = 100\n",
        "tol = 10e-3\n",
        "\n",
        "A = np.array(A, dtype=float)\n",
        "\n",
        "try:\n",
        "    x = gauss_seidel(A, b, x0, tol, max_iter)\n",
        "    print(\"Se llego a la solución aproximada en el rango deseado con \\nx =\",x)\n",
        "except ValueError as e:\n",
        "    print(e)\n",
        "\n",
        "print(\"\\nLiteral c:\\n\")\n",
        "A = [[10,-5,0,0],[5,10,-4,0],[0,-4,8,-1],[0,0,-1,5]]\n",
        "b = np.array([16,25,-11,-11],dtype=float)\n",
        "x0=np.zeros(len(b))\n",
        "max_iter = 100\n",
        "tol = 10e-3\n",
        "\n",
        "A = np.array(A, dtype=float)\n",
        "\n",
        "try:\n",
        "    x = gauss_seidel(A, b, x0, tol, max_iter)\n",
        "    print(\"Se llego a la solución aproximada en el rango deseado con \\nx =\",x)\n",
        "except ValueError as e:\n",
        "    print(e)\n",
        "\n",
        "print(\"\\nLiteral d:\\n\")\n",
        "A = [[4,1,1,0,1],[-1,-3,1,1,0],[2,1,5,-1,-1],[-1,-1,-1,4,0],[0,2,-1,1,4]]\n",
        "b = np.array([6,6,6,6,6],dtype=float)\n",
        "x0=np.zeros(len(b))\n",
        "max_iter = 100\n",
        "tol = 10e-3\n",
        "\n",
        "A = np.array(A, dtype=float)\n",
        "\n",
        "try:\n",
        "    x = gauss_seidel(A, b, x0, tol, max_iter)\n",
        "    print(\"Se llego a la solución aproximada en el rango deseado con \\nx =\",x)\n",
        "except ValueError as e:\n",
        "    print(e)"
      ]
    },
    {
      "cell_type": "markdown",
      "id": "93faef51-2207-4c30-9f24-af63ea51050d",
      "metadata": {
        "id": "93faef51-2207-4c30-9f24-af63ea51050d"
      },
      "source": [
        "## Ejercicio 05"
      ]
    },
    {
      "cell_type": "code",
      "execution_count": 13,
      "id": "f7983698-2cf5-48b2-8a54-d683cc5a23f8",
      "metadata": {
        "tags": [],
        "id": "f7983698-2cf5-48b2-8a54-d683cc5a23f8",
        "outputId": "6ce0a275-ce5f-421c-a2a4-e95f57b87eb4",
        "colab": {
          "base_uri": "https://localhost:8080/"
        }
      },
      "outputs": [
        {
          "output_type": "stream",
          "name": "stdout",
          "text": [
            "La solució obtenida con Gauss-Jacobi es de \n",
            "x = [ 0.5  2.  -2.5]\n"
          ]
        }
      ],
      "source": [
        "%autoreload 2\n",
        "A = [[2,-1,1],[2,2,2,],[-1,-1,2]]\n",
        "b = [1,4,-5]\n",
        "x0 = np.zeros(len(b))\n",
        "tol = 3\n",
        "max_iter = 25\n",
        "\n",
        "try:\n",
        "    x = gauss_jacobi(A, b, x0, tol, max_iter)\n",
        "    print(\"La solució obtenida con Gauss-Jacobi es de \\nx =\",x)\n",
        "except ValueError as e:\n",
        "    print(e)"
      ]
    },
    {
      "cell_type": "markdown",
      "id": "ed50faf1-0adb-4963-9267-07b6b81a879b",
      "metadata": {
        "id": "ed50faf1-0adb-4963-9267-07b6b81a879b"
      },
      "source": [
        "b)"
      ]
    },
    {
      "cell_type": "code",
      "execution_count": 14,
      "id": "53055ec4-bef2-405f-8c2c-75d1e591883a",
      "metadata": {
        "tags": [],
        "id": "53055ec4-bef2-405f-8c2c-75d1e591883a",
        "outputId": "6787cd0e-e9d8-4df4-8f63-fdc448efbc72",
        "colab": {
          "base_uri": "https://localhost:8080/"
        }
      },
      "outputs": [
        {
          "output_type": "stream",
          "name": "stdout",
          "text": [
            "La solución obtenida con Gauss-Seidel es de \n",
            "x = [ 1.66669655  1.33329964 -1.00000191]\n"
          ]
        }
      ],
      "source": [
        "%autoreload 2\n",
        "tol = 10e-5\n",
        "A = np.array(A, dtype=float)\n",
        "\n",
        "try:\n",
        "    x = gauss_seidel(A, b, x0, tol, max_iter)\n",
        "    print(\"La solución obtenida con Gauss-Seidel es de \\nx =\",x)\n",
        "except ValueError as e:\n",
        "    print(e)"
      ]
    },
    {
      "cell_type": "markdown",
      "id": "eacafe20-6896-4a37-a38c-802bfb0f809a",
      "metadata": {
        "id": "eacafe20-6896-4a37-a38c-802bfb0f809a"
      },
      "source": [
        "## Ejercicio 06"
      ]
    },
    {
      "cell_type": "code",
      "execution_count": 15,
      "id": "db5a4d6c-0983-491c-b338-62022999e89f",
      "metadata": {
        "tags": [],
        "id": "db5a4d6c-0983-491c-b338-62022999e89f",
        "outputId": "afaeb9db-fc4b-4ca7-d599-4b9e169c693c",
        "colab": {
          "base_uri": "https://localhost:8080/"
        }
      },
      "outputs": [
        {
          "output_type": "stream",
          "name": "stdout",
          "text": [
            "La matriz NO es estrictamente diagonal dominante.\n"
          ]
        }
      ],
      "source": [
        "%autoreload 2\n",
        "A = np.array([\n",
        "    [1, 0, -1],\n",
        "    [1/2,1,-1/4],\n",
        "    [1,-1/2,1]\n",
        "], dtype=float)\n",
        "\n",
        "if es_diagonal_estrictamente_dominante(A):\n",
        "    print(\"La matriz es estrictamente diagonal dominante.\")\n",
        "else:\n",
        "    print(\"La matriz NO es estrictamente diagonal dominante.\")"
      ]
    },
    {
      "cell_type": "markdown",
      "id": "faa319f0-bdfe-435f-9031-0a1f3f1f0506",
      "metadata": {
        "id": "faa319f0-bdfe-435f-9031-0a1f3f1f0506"
      },
      "source": [
        "b)"
      ]
    },
    {
      "cell_type": "code",
      "execution_count": 16,
      "id": "fb64d95e-3b55-4178-8d73-02a48e627cbd",
      "metadata": {
        "tags": [],
        "id": "fb64d95e-3b55-4178-8d73-02a48e627cbd",
        "outputId": "b02a9d23-5b13-4fc5-e219-2bde5b06eec3",
        "colab": {
          "base_uri": "https://localhost:8080/"
        }
      },
      "outputs": [
        {
          "output_type": "stream",
          "name": "stdout",
          "text": [
            "El método de Gauss-Seidel no convergió.\n"
          ]
        }
      ],
      "source": [
        "%autoreload 2\n",
        "b = [0.2,-1.425,2]\n",
        "x0 = np.zeros(len(b))\n",
        "tol = 10e-22\n",
        "max_iter = 300\n",
        "\n",
        "try:\n",
        "    x = gauss_seidel(A, b, x0, tol, max_iter)\n",
        "    print(\"La solución obtenida con Gauss-Seidel es de \\nx =\",x)\n",
        "except ValueError as e:\n",
        "    print(e)"
      ]
    },
    {
      "cell_type": "markdown",
      "id": "45ec05cc-ce69-4f47-8575-29a9d73c6cf2",
      "metadata": {
        "id": "45ec05cc-ce69-4f47-8575-29a9d73c6cf2"
      },
      "source": [
        "c)"
      ]
    },
    {
      "cell_type": "code",
      "execution_count": 17,
      "id": "ba8a082c-b8c8-4d42-8e05-0e1e5be9bd11",
      "metadata": {
        "tags": [],
        "id": "ba8a082c-b8c8-4d42-8e05-0e1e5be9bd11",
        "outputId": "77332d28-8f2b-4f90-824c-91c88c7f38b6",
        "colab": {
          "base_uri": "https://localhost:8080/"
        }
      },
      "outputs": [
        {
          "output_type": "stream",
          "name": "stdout",
          "text": [
            "El método de Gauss-Seidel no convergió.\n"
          ]
        }
      ],
      "source": [
        "%autoreload 2\n",
        "A_mod = np.array([\n",
        "    [1, 0, -2],\n",
        "    [1/2,1,-1/4],\n",
        "    [1,-1/2,1]\n",
        "], dtype=float)\n",
        "\n",
        "try:\n",
        "    x = gauss_seidel(A_mod, b, x0, tol, max_iter)\n",
        "    print(\"La solución obtenida con Gauss-Seidel es de \\nx =\",x)\n",
        "except ValueError as e:\n",
        "    print(e)"
      ]
    },
    {
      "cell_type": "markdown",
      "id": "e2701e8a-7a3c-48a1-9f80-a7ec0f812381",
      "metadata": {
        "id": "e2701e8a-7a3c-48a1-9f80-a7ec0f812381"
      },
      "source": [
        "## Ejercicio 07"
      ]
    },
    {
      "cell_type": "code",
      "execution_count": 18,
      "id": "d2041f47-b696-4693-8234-5ee20cccd292",
      "metadata": {
        "tags": [],
        "id": "d2041f47-b696-4693-8234-5ee20cccd292",
        "outputId": "4a7e501e-728b-43fb-8dac-59ca76efffd7",
        "colab": {
          "base_uri": "https://localhost:8080/"
        }
      },
      "outputs": [
        {
          "output_type": "stream",
          "name": "stdout",
          "text": [
            "\n",
            "Literal b:\n",
            "\n",
            "El método de Gauss-Jacobi no convergió.\n",
            "\n",
            "Literal c:\n",
            "\n",
            "El método de Gauss-Jacobi no convergió.\n"
          ]
        }
      ],
      "source": [
        "%autoreload 2\n",
        "print(\"\\nLiteral b:\\n\")\n",
        "A = np.array([\n",
        "    [1, 0, -1],\n",
        "    [1/2,1,-1/4],\n",
        "    [1,-1/2,1]\n",
        "], dtype=float)\n",
        "b = [0.2,-1.425,2]\n",
        "x0 = np.zeros(len(b))\n",
        "tol = 10e-22\n",
        "max_iter = 300\n",
        "\n",
        "try:\n",
        "    x = gauss_jacobi(A, b, x0, tol, max_iter)\n",
        "    print(\"La solución obtenida con Gauss-Seidel es de \\nx =\",x)\n",
        "except ValueError as e:\n",
        "    print(e)\n",
        "\n",
        "print(\"\\nLiteral c:\\n\")\n",
        "A_mod = np.array([\n",
        "    [1, 0, -2],\n",
        "    [1/2,1,-1/4],\n",
        "    [1,-1/2,1]\n",
        "], dtype=float)\n",
        "\n",
        "try:\n",
        "    x = gauss_jacobi(A_mod, b, x0, tol, max_iter)\n",
        "    print(\"La solución obtenida con Gauss-Seidel es de \\nx =\",x)\n",
        "except ValueError as e:\n",
        "    print(e)"
      ]
    },
    {
      "cell_type": "markdown",
      "id": "1520857c-107a-458d-b59c-dcadcc9de048",
      "metadata": {
        "id": "1520857c-107a-458d-b59c-dcadcc9de048"
      },
      "source": [
        "## Ejercicio 08"
      ]
    },
    {
      "cell_type": "code",
      "execution_count": 19,
      "id": "c0bbfc9d-3a8b-4d54-b0a5-c029d01d97ce",
      "metadata": {
        "tags": [],
        "id": "c0bbfc9d-3a8b-4d54-b0a5-c029d01d97ce"
      },
      "outputs": [],
      "source": [
        "import numpy as np\n",
        "\n",
        "# Matriz de coeficientes A\n",
        "A = np.array([\n",
        "    [4, -1, 0, 0, -1, 0, 0, 0, 0, 0, 0, 0],\n",
        "    [-1, 4, -1, 0, 0, 0, 0, 0, 0, 0, 0, 0],\n",
        "    [0, -1, 4, -1, 0, 0, 0, 0, 0, 0, 0, 0],\n",
        "    [0, 0, -1, 4, 0, -1, 0, 0, 0, 0, 0, 0],\n",
        "    [-1, 0, 0, 0, 4, 0, -1, 0, 0, 0, 0, 0],\n",
        "    [0, 0, 0, -1, 0, 4, 0, -1, 0, 0, 0, 0],\n",
        "    [0, 0, 0, 0, -1, 0, 4, 0, -1, 0, 0, 0],\n",
        "    [0, 0, 0, 0, 0, -1, 0, 4, 0, 0, 0, -1],\n",
        "    [0, 0, 0, 0, 0, 0, -1, 0, 4, -1, 0, 0],\n",
        "    [0, 0, 0, 0, 0, 0, 0, 0, -1, 4, -1, 0],\n",
        "    [0, 0, 0, 0, 0, 0, 0, 0, 0, -1, 4, -1],\n",
        "    [0, 0, 0, 0, 0, -1, 0, 0, 0, 0, -1, 4]\n",
        "], dtype=float)\n",
        "\n",
        "# Vector de términos independientes b\n",
        "b = np.array([220, 110, 110, 220, 110, 110, 110, 110,220, 110, 110, 220], dtype=float)\n"
      ]
    },
    {
      "cell_type": "markdown",
      "id": "14a31b13-8236-45c6-90dd-8911e2e014d5",
      "metadata": {
        "id": "14a31b13-8236-45c6-90dd-8911e2e014d5"
      },
      "source": [
        "a)"
      ]
    },
    {
      "cell_type": "code",
      "execution_count": 20,
      "id": "6920a1dc-0d6a-4bd5-9a34-3f901c3ace11",
      "metadata": {
        "tags": [],
        "id": "6920a1dc-0d6a-4bd5-9a34-3f901c3ace11",
        "outputId": "ad700810-0fe4-4bda-901f-431a65f4e205",
        "colab": {
          "base_uri": "https://localhost:8080/"
        }
      },
      "outputs": [
        {
          "output_type": "stream",
          "name": "stdout",
          "text": [
            "La matriz es estrictamente diagonal dominante.\n"
          ]
        }
      ],
      "source": [
        "if es_diagonal_estrictamente_dominante(A):\n",
        "    print(\"La matriz es estrictamente diagonal dominante.\")\n",
        "else:\n",
        "    print(\"La matriz NO es estrictamente diagonal dominante.\")"
      ]
    },
    {
      "cell_type": "markdown",
      "id": "1d559701-1c88-436a-8a1c-9a4ee6dbe9ac",
      "metadata": {
        "id": "1d559701-1c88-436a-8a1c-9a4ee6dbe9ac"
      },
      "source": [
        "b)"
      ]
    },
    {
      "cell_type": "code",
      "execution_count": 21,
      "id": "488718c9-44c5-4515-b6f6-795d3aa35a9b",
      "metadata": {
        "tags": [],
        "id": "488718c9-44c5-4515-b6f6-795d3aa35a9b",
        "outputId": "2b314684-4b94-4895-ce99-cf41adb8ee6a",
        "colab": {
          "base_uri": "https://localhost:8080/"
        }
      },
      "outputs": [
        {
          "output_type": "stream",
          "name": "stdout",
          "text": [
            "La solución obtenida con Gauss-Seidel es de \n",
            "x = [87.92837143 65.92839241 65.92839241 87.92837143 65.92839241 65.92839241\n",
            " 65.92839241 65.92839241 87.92837143 65.92839241 65.92839241 87.92837143]\n"
          ]
        }
      ],
      "source": [
        "x0 = np.zeros(len(b))\n",
        "tol = 10e-2\n",
        "max_iter = 300\n",
        "\n",
        "try:\n",
        "    x = gauss_jacobi(A, b, x0, tol, max_iter)\n",
        "    print(\"La solución obtenida con Gauss-Seidel es de \\nx =\",x)\n",
        "except ValueError as e:\n",
        "    print(e)"
      ]
    },
    {
      "cell_type": "markdown",
      "id": "ac833914-884d-4620-b56b-21389f4ef703",
      "metadata": {
        "id": "ac833914-884d-4620-b56b-21389f4ef703"
      },
      "source": [
        "c)"
      ]
    },
    {
      "cell_type": "code",
      "execution_count": 22,
      "id": "03d7b3ae-8cbd-4ca7-bfab-cca19f011dc5",
      "metadata": {
        "id": "03d7b3ae-8cbd-4ca7-bfab-cca19f011dc5",
        "outputId": "835c6d15-d36a-4d3e-da21-59540c7ba1d5",
        "colab": {
          "base_uri": "https://localhost:8080/"
        }
      },
      "outputs": [
        {
          "output_type": "stream",
          "name": "stdout",
          "text": [
            "La solución obtenida con Gauss-Seidel es de \n",
            "x = [87.98217949 65.98985217 65.99375664 87.99604191 65.98985217 65.9974727\n",
            " 65.99375664 65.99838442 87.99604191 65.9974727  65.99838442 87.99896428]\n"
          ]
        }
      ],
      "source": [
        "try:\n",
        "    x = gauss_seidel(A, b, x0, tol, max_iter)\n",
        "    print(\"La solución obtenida con Gauss-Seidel es de \\nx =\",x)\n",
        "except ValueError as e:\n",
        "    print(e)"
      ]
    }
  ],
  "metadata": {
    "kernelspec": {
      "display_name": "Python 3 (ipykernel)",
      "language": "python",
      "name": "python3"
    },
    "language_info": {
      "codemirror_mode": {
        "name": "ipython",
        "version": 3
      },
      "file_extension": ".py",
      "mimetype": "text/x-python",
      "name": "python",
      "nbconvert_exporter": "python",
      "pygments_lexer": "ipython3",
      "version": "3.11.7"
    },
    "colab": {
      "provenance": []
    }
  },
  "nbformat": 4,
  "nbformat_minor": 5
}